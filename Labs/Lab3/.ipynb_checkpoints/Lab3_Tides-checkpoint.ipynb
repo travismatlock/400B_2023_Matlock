{
 "cells": [
  {
   "cell_type": "code",
   "execution_count": 1,
   "metadata": {},
   "outputs": [],
   "source": [
    "# In Class Lab 3\n",
    "# G. Besla \n",
    "\n",
    "# import relevant modules \n",
    "import astropy.units as u\n",
    "import numpy as np\n",
    "from astropy import constants as const # import astropy constants"
   ]
  },
  {
   "cell_type": "markdown",
   "metadata": {},
   "source": [
    "The Large Magellanic Cloud is at a distance of 50 kpc from the Galactic Center. \n",
    "It is observed to have a stellar disk that extends to a radius of at least 18.5 kpc.\n",
    "\n",
    "![LMC](./Lab3_Tidal.png)\n",
    "Deep photometric imaging reveals the faint stellar outskirts of the LMC. \n",
    "Outskirts: DECam data Mackey+2016 MNRAS 459, 239. \n",
    "Inner: shallower imaging from robotic telescopes Besla+2016 APJ 825.\n",
    "\n",
    "In this lab we will determine\n",
    "the minimum mass required for the LMC so that it maintains the observed radius \n",
    "in the face of the Milky Way's tidal field. "
   ]
  },
  {
   "cell_type": "markdown",
   "metadata": {},
   "source": [
    "# Part A\n",
    "\n",
    "We define the mass profile of the Milky Way using a Hernquist profile.\n",
    "\n",
    "\n",
    "$\\rho(r) =  \\frac{M_{halo}}{2\\pi} \\frac{a}{r(r+a)^3} \\qquad M(r) =  \\frac{M_{halo} r^2}{(a+r)^2}$ \n",
    "\n"
   ]
  },
  {
   "cell_type": "markdown",
   "metadata": {},
   "source": [
    "## #1\n",
    "\n",
    "Create a function `hernquist_mass` that returns the dark matter halo mass at a given radius in units of solar mass.\n",
    "This function should take as input:  the distance from the Galactic center $r$, the scale radius $a$, and the halo mass $M_{halo}$.\n",
    "\n",
    "\n",
    "For the Hernquist scale radius for the Milky Way, use the default value of $a=60$ kpc. \n",
    "\n",
    "For $M_{halo}$ use your answer for the total mass of the simulated Milky Way you computed in Homework 3 as the default value (in units of 1e12). "
   ]
  },
  {
   "cell_type": "code",
   "execution_count": 3,
   "metadata": {},
   "outputs": [],
   "source": [
    "def hernquist_mass(r, a=60*u.kpc, m_halo=1.975):\n",
    "    '''\n",
    "    This function defines the Hernquist 1990 mass profile\n",
    "    Inputs:\n",
    "        r: 'astropy quantity'\n",
    "            Galactocentric distance in [kpc]\n",
    "        a: 'astropy quantity'\n",
    "            scale radius of the Hernquist profile [kpc]\n",
    "        m_halo: 'float'\n",
    "            total halo mass [1e12 Msun]\n",
    "            \n",
    "        Outputs:\n",
    "            mass: 'astropy quantity'\n",
    "                total mass within the input radius r [Msun]\n",
    "    '''\n",
    "    mass = m_halo*1e12*r**2 / (a+r)**2*u.Msun # Hernquist mass\n",
    "    return mass"
   ]
  },
  {
   "cell_type": "code",
   "execution_count": 4,
   "metadata": {},
   "outputs": [
    {
     "name": "stdout",
     "output_type": "stream",
     "text": [
      "1.95e+12 solMass\n"
     ]
    }
   ],
   "source": [
    "print(f\"{hernquist_mass(10000*u.kpc):.2e}\")"
   ]
  },
  {
   "cell_type": "code",
   "execution_count": 5,
   "metadata": {},
   "outputs": [
    {
     "name": "stdout",
     "output_type": "stream",
     "text": [
      "1.30e+12 solMass\n"
     ]
    }
   ],
   "source": [
    "print(f\"{hernquist_mass(260*u.kpc):.2e}\")"
   ]
  },
  {
   "cell_type": "code",
   "execution_count": 6,
   "metadata": {},
   "outputs": [
    {
     "name": "stdout",
     "output_type": "stream",
     "text": [
      "4.08e+11 solMass\n"
     ]
    }
   ],
   "source": [
    "print(f\"{hernquist_mass(50*u.kpc):.2e}\")"
   ]
  },
  {
   "cell_type": "markdown",
   "metadata": {},
   "source": [
    "## #2\n",
    "\n",
    "Compute the total mass of the Milky Way within 50 kpc, including its baryonic components (Dark Matter + Bulge + Disk). Use your answers from Homework 3 for the Bulge and Disk Masses. \n",
    "Store this as a variable called `mass_MW50`.\n"
   ]
  },
  {
   "cell_type": "code",
   "execution_count": 7,
   "metadata": {},
   "outputs": [],
   "source": [
    "mdisk = 7.5e10*u.Msun\n",
    "mbulge = 1e10*u.Msun"
   ]
  },
  {
   "cell_type": "code",
   "execution_count": 10,
   "metadata": {},
   "outputs": [
    {
     "name": "stdout",
     "output_type": "stream",
     "text": [
      "4.93e+11 solMass\n"
     ]
    }
   ],
   "source": [
    "# Determine the total mass of MW within 50 kpc\n",
    "mass_MW50 = hernquist_mass(50*u.kpc)+mdisk+mbulge\n",
    "print(f\"{mass_MW50:.2e}\")"
   ]
  },
  {
   "cell_type": "markdown",
   "metadata": {},
   "source": [
    "# Part B\n",
    "\n",
    "The Jacobi Radius for a satellite on a circular orbit about an extended host, where \n",
    "the host is assumed to be well modeled as an isothermal sphere halo:\n",
    "\n",
    "\n",
    "$R_j = r  \\bigg( \\frac{M_{sat}}{2 M_{host}(<r)} \\bigg)^{1/3}$\n",
    "\n",
    "\n",
    "The Isothermal Sphere approximation is not a bad one within 50 kpc.\n",
    "\n",
    "Note also that the LMC is not on a circular orbit, but it is very close to its pericentric approach, where the velocity is all in the tangential component. So this isn't a terrible approximation either. \n",
    "\n",
    "## #1\n",
    "Create a function called `jacobi_mass` that returns the total mass of a satellite galaxy in units of Msun, \n",
    "such that it has a given size \n",
    "\n",
    "Do this by rearranging the Jacobi Radius equation to solve for the satellite mass. \n"
   ]
  },
  {
   "cell_type": "code",
   "execution_count": 13,
   "metadata": {},
   "outputs": [],
   "source": [
    "# Rj = r*(Msat/2Mhost)**(1/3)\n",
    "# Msat = (Rj/r)**3*2*Mhost\n",
    "\n",
    "def jacobi_mass(rj, r, m_host):\n",
    "    \"\"\" This function determines the minimum satellite mass needed to\n",
    "    maintain the size of a given satellite using the Jacobi radius\n",
    "    \n",
    "    Inputs:\n",
    "    rj: 'astropy quantity'\n",
    "        Jacobi radius or the stellar radius of the satellite [kpc]\n",
    "    r: 'astropy quantity'\n",
    "        Distance of the satellite from the host [kpc]\n",
    "    m_host: 'astropy quantity'\n",
    "        Mass of the host galaxy [kpc]\n",
    "        \n",
    "    Returns:\n",
    "        m_min: 'astropy quantity'\n",
    "            Minmum satellite mass in Msun\n",
    "    \n",
    "    \"\"\"\n",
    "    \n",
    "    m_min = (rj/r)**3*2*m_host # satellite mass from jacobi radius\n",
    "    return m_min"
   ]
  },
  {
   "cell_type": "markdown",
   "metadata": {},
   "source": [
    "## #2 \n",
    "\n",
    "Determine the minimum total mass of the LMC needed to maintain its radius of 18.5 kpc in the face of the Milky Way's tidal \n",
    "field at its current distance of 50 kpc. Store this as a variable called `LMC_jacobiM`."
   ]
  },
  {
   "cell_type": "code",
   "execution_count": 18,
   "metadata": {},
   "outputs": [],
   "source": [
    "sizeL = 18.5*u.kpc # Observed radius of the LMC disk (Mackey 2016)\n",
    "distL = 50 * u.kpc # Galactocentric distance to the LMC"
   ]
  },
  {
   "cell_type": "code",
   "execution_count": 19,
   "metadata": {},
   "outputs": [
    {
     "name": "stdout",
     "output_type": "stream",
     "text": [
      "4.99e+10 solMass\n"
     ]
    }
   ],
   "source": [
    "# LMC minimum mass in maximal MW halo model\n",
    "LMC_jacobiM = jacobi_mass(sizeL, distL, mass_MW50)\n",
    "print(f\"{LMC_jacobiM:.2e}\")"
   ]
  },
  {
   "cell_type": "markdown",
   "metadata": {},
   "source": [
    "## #3\n",
    "\n",
    "Recall that, ignoring centrifugal forces and assuming the host is a point mass, the tidal radius is given as :\n",
    "\n",
    "$r_{tide} = r\\left (\\frac{m_{sat}}{4M_{host} } \\right)^{1/3} $\n",
    "\n",
    "Create a function to determine the total mass the must LMC possess to have a disk with radius 18.5 kpc.\n",
    "\n",
    "The function should take as input, the current size of the satellite (kpc), this distance to the host (kpc) and the mass of the host (in Msun)\n",
    "\n",
    "Use the function to determine the needed LMC mass and store it as a variable called `LMC_tidalM`. "
   ]
  },
  {
   "cell_type": "code",
   "execution_count": 20,
   "metadata": {},
   "outputs": [],
   "source": [
    "# rtide = r(msat/4/Mhost)**1/3\n",
    "# msat = (rtide/r)**3*4*Mhost\n",
    "\n",
    "def tidal_mass(r_tide, r, m_host):\n",
    "    \"\"\" This function computes the mass of the satellite needed such\n",
    "    that the tidal radius is the current size of the galaxy, ignoring\n",
    "    centrifugal forces\n",
    "    \n",
    "    Inputs:\n",
    "        r_tide: 'astropy quantity'\n",
    "            The tidal radius [kpc]\n",
    "        r: 'astropy quantity'\n",
    "            The distance from host galaxy [kpc]\n",
    "        mhost: 'astropy quantity'\n",
    "            Mass of the host galaxy [Msun]\n",
    "            \n",
    "        Output:\n",
    "            sat_mass: 'astropy quantity'\n",
    "                The mass of the satellite in Msun\n",
    "    \"\"\"\n",
    "    sat_mass = 4*m_host*(r_tide/r)**3\n",
    "    return sat_mass"
   ]
  },
  {
   "cell_type": "code",
   "execution_count": 22,
   "metadata": {},
   "outputs": [
    {
     "name": "stdout",
     "output_type": "stream",
     "text": [
      "9.99e+10 solMass\n"
     ]
    }
   ],
   "source": [
    "LMC_tidalM = tidal_mass(sizeL,distL,mass_MW50) # Tidal mass of LMC\n",
    "print(f\"{LMC_tidalM:.2e}\")"
   ]
  },
  {
   "cell_type": "markdown",
   "metadata": {},
   "source": [
    "## #4\n",
    "\n",
    "a) Compare `LMC_tidalM` to the calculation using the Jacobi Radius.\n",
    "\n",
    "b)How does the total mass of the LMC compare to its stellar mass (M$_\\ast = 3 \\times 10^9$ M$_\\odot$)? \n"
   ]
  },
  {
   "cell_type": "code",
   "execution_count": null,
   "metadata": {
    "collapsed": true
   },
   "outputs": [],
   "source": []
  },
  {
   "cell_type": "markdown",
   "metadata": {
    "collapsed": true
   },
   "source": [
    "# Part C: Consistency Check\n",
    "\n",
    "\n",
    "The dynamical mass of the LMC at any radius can be determined by assuming a flat rotation curve.  \"Dynamical mass\" means mass needed to explain the rotation curve. \n",
    "\n",
    "$V_c^2 = \\frac{G M}{r} = constant$\n",
    " \n",
    " The rotation curve of the LMC is observed to flatten at a value of 91.7 +/- 18.8 km/s  (van der Marel & Kallivayalil 2014 ApJ 781)\n",
    "\n",
    "  \n",
    "   Create a function called `dyn_mass` that takes as input Vc (km/s) and distance to from the center of the galaxy (r) and returns the maximal dynamical mass in Msun. \n",
    " \n",
    "$G$ = 4.4985e-6 kpc$^3$/Gyr$^2$/M$_\\odot$"
   ]
  },
  {
   "cell_type": "code",
   "execution_count": null,
   "metadata": {
    "collapsed": true
   },
   "outputs": [],
   "source": []
  },
  {
   "cell_type": "markdown",
   "metadata": {},
   "source": [
    "  \n",
    "## #1  \n",
    "Compute the dynamical mass enclosed by the LMC within the observed radius. Store it as a variable called `LMC_dynM`. "
   ]
  },
  {
   "cell_type": "code",
   "execution_count": null,
   "metadata": {
    "collapsed": true
   },
   "outputs": [],
   "source": []
  },
  {
   "cell_type": "markdown",
   "metadata": {},
   "source": [
    "## #2\n",
    "\n",
    "Is `LMC_dynM` consistent with `LMC_jacobiM`, the minimum mass needed to explain the observed radius of the LMC given the tidal field of the MW? If not, how can the numbers be reconciled?"
   ]
  },
  {
   "cell_type": "code",
   "execution_count": null,
   "metadata": {
    "collapsed": true
   },
   "outputs": [],
   "source": []
  }
 ],
 "metadata": {
  "kernelspec": {
   "display_name": "Python 3 (ipykernel)",
   "language": "python",
   "name": "python3"
  },
  "language_info": {
   "codemirror_mode": {
    "name": "ipython",
    "version": 3
   },
   "file_extension": ".py",
   "mimetype": "text/x-python",
   "name": "python",
   "nbconvert_exporter": "python",
   "pygments_lexer": "ipython3",
   "version": "3.9.13"
  }
 },
 "nbformat": 4,
 "nbformat_minor": 2
}
