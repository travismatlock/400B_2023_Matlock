{
 "cells": [
  {
   "cell_type": "markdown",
   "metadata": {},
   "source": [
    "# In Class Lab 1\n",
    "\n",
    "### Due by 5 PM Jan 31st in your github repository 'Labs/Lab1' folder\n",
    "\n",
    "## Part A:  The Local Standard of Rest\n",
    "Proper motion of Sgr A* from Reid & Brunthaler 2004\n",
    "$\\mu = 6.379$ mas/yr \n",
    "\n",
    "Peculiar motion of the sun, $v_\\odot$ = 12.24 km/s  (Schonrich 2010)\n",
    "\n",
    "\n",
    "$v_{tan} = 4.74 \\frac{\\mu}{\\rm mas/yr} \\frac{R_o}{\\rm kpc} = V_{LSR} + v_\\odot$\n",
    "\n",
    "\n",
    "### a)\n",
    "\n",
    "Create a function called VLSR to compute the local standard of res (V$_{LSR}$).\n",
    "\n",
    "The function should take as input: the solar radius (R$_o$), the proper motion (mu)\n",
    "and the peculiar motion of the sun in the $v_\\odot$ direction.\n",
    "\n",
    "Compute V$_{LSR}$ using three different values R$_o$: \n",
    "1. Water Maser Distance for the Sun :  R$_o$ = 8.34 kpc   (Reid 2014 ApJ 783) \n",
    "2. GRAVITY Collaboration Distance for the Sun:  R$_o$ = 8.178 kpc   (Abuter+2019 A&A 625)\n",
    "3. Value for Distance to Sun listed in Sparke & Gallagher : R$_o$ = 7.9 kpc \n"
   ]
  },
  {
   "cell_type": "code",
   "execution_count": 1,
   "metadata": {},
   "outputs": [],
   "source": [
    "# Import Modules \n",
    "import numpy as np # import numpy\n",
    "import astropy.units as u # import astropy units\n",
    "from astropy import constants as const # import astropy constants"
   ]
  },
  {
   "cell_type": "code",
   "execution_count": 2,
   "metadata": {
    "scrolled": true
   },
   "outputs": [],
   "source": [
    "def VLSR(Ro, mu=6.379, vsun=12.24 * u.km / u.s):\n",
    "    \"\"\"This function will compute the velocity at the local standard of rest\n",
    "                VLSR = 4.74*mu*Ro - vsun\n",
    "                \n",
    "        Inputs:\n",
    "            Ro: 'astropy quantity'\n",
    "                The distance form the Sun to the galactic center in kpc\n",
    "            mu: 'float'\n",
    "                The proper motion of Sag A* in mas/yr.\n",
    "                Default is from Reid & Brunthaler 2004\n",
    "            vsun: 'astropy quantity'\n",
    "                The peculiar motion of the sun in the v direction (km/s)\n",
    "                Default is from Schonrich + 2010\n",
    "                \n",
    "        Outputs:\n",
    "            VLSR: 'astropy quantity'\n",
    "            The velocity of the local standard of rest (km/s)\n",
    "    \"\"\"\n",
    "    return 4.74*mu*(Ro/u.kpc)* u.km / u.s - vsun\n"
   ]
  },
  {
   "cell_type": "code",
   "execution_count": 3,
   "metadata": {},
   "outputs": [],
   "source": [
    "# Define our distances to the Galactic Center from the Sun\n",
    "RoReid = 8.34*u.kpc # Distance from Reid+2014 in kpc\n",
    "RoGravity = 8.178*u.kpc # Distance from the Gravity Collab Abuter+2019 in kpc\n",
    "RoSG = 7.9*u.kpc # Distance from the textbook Sparke & Gallagher"
   ]
  },
  {
   "cell_type": "code",
   "execution_count": 4,
   "metadata": {
    "scrolled": true
   },
   "outputs": [
    {
     "name": "stdout",
     "output_type": "stream",
     "text": [
      "239.9320764 km / s\n"
     ]
    }
   ],
   "source": [
    "# Compute VLSR using Ro from Reid 2014\n",
    "VLSR_Reid = VLSR(RoReid)\n",
    "print(VLSR_Reid)"
   ]
  },
  {
   "cell_type": "code",
   "execution_count": 5,
   "metadata": {
    "scrolled": true
   },
   "outputs": [
    {
     "name": "stdout",
     "output_type": "stream",
     "text": [
      "235.0 km / s\n"
     ]
    }
   ],
   "source": [
    "# Compute VLSR using Ro from Gravity Collab\n",
    "VLSR_Gravity = VLSR(RoGravity)\n",
    "print(np.round(VLSR_Gravity))"
   ]
  },
  {
   "cell_type": "code",
   "execution_count": 6,
   "metadata": {},
   "outputs": [
    {
     "name": "stdout",
     "output_type": "stream",
     "text": [
      "227.0 km / s\n"
     ]
    }
   ],
   "source": [
    "# Compute VLSR using Ro from Sparke & Gallagher\n",
    "VLSR_SG = VLSR(RoSG)\n",
    "print(np.round(VLSR_SG))"
   ]
  },
  {
   "cell_type": "markdown",
   "metadata": {},
   "source": [
    "### b)\n",
    "\n",
    "compute the orbital period of the sun in Gyr using R$_o$ from the GRAVITY Collaboration (assume circular orbit)\n",
    "\n",
    "Note that 1 km/s $\\sim$ 1kpc/Gyr"
   ]
  },
  {
   "cell_type": "code",
   "execution_count": 7,
   "metadata": {},
   "outputs": [],
   "source": [
    "def TorbSun(R, V):\n",
    "    \"\"\" This function will compute hte orbital period of the Sun\n",
    "                T = 2 pi R / V\n",
    "                \n",
    "        Inputs:\n",
    "            R: 'astropy quantity'\n",
    "                Distance in kpc (to the Galactic Center)\n",
    "            V: 'astropy quantity'\n",
    "                Velocity in km/s (of the Sun in the v direction)\n",
    "            \n",
    "        Outputs:\n",
    "            T: 'astropy quantity'\n",
    "            Orbital period in Gyr\n",
    "                \n",
    "    \"\"\"\n",
    "    \n",
    "    VkpcGyr = V.to(u.kpc/u.Gyr) # Converting V from km/s to kpc/Gyr\n",
    "    T = 2*np.pi*R/VkpcGyr # Orbital Period\n",
    "    return T"
   ]
  },
  {
   "cell_type": "code",
   "execution_count": 8,
   "metadata": {},
   "outputs": [],
   "source": [
    "# Velocity of the Sun = VLSR + peculiar motion\n",
    "vsunPeculiar = 12.24*u.km/u.s\n",
    "VSun = VLSR_Gravity"
   ]
  },
  {
   "cell_type": "code",
   "execution_count": 9,
   "metadata": {},
   "outputs": [
    {
     "name": "stdout",
     "output_type": "stream",
     "text": [
      "0.2137682914325781 Gyr\n"
     ]
    }
   ],
   "source": [
    "# Compute the orbital period of the Sun!\n",
    "# Use Ro from Gravity Collaboration\n",
    "T_Grav = TorbSun(RoGravity, VSun)\n",
    "print(T_Grav)"
   ]
  },
  {
   "cell_type": "markdown",
   "metadata": {},
   "source": [
    "### c)\n",
    "\n",
    "Compute the number of rotations about the GC over the age of the universe (13.8 Gyr)"
   ]
  },
  {
   "cell_type": "code",
   "execution_count": 10,
   "metadata": {},
   "outputs": [
    {
     "name": "stdout",
     "output_type": "stream",
     "text": [
      "64.55587920696125\n"
     ]
    }
   ],
   "source": [
    "# Compute number of rotations over age of the Universe\n",
    "\n",
    "Age = 13.8*u.Gyr # Age of the Universe\n",
    "print(Age/T_Grav)\n"
   ]
  },
  {
   "cell_type": "markdown",
   "metadata": {},
   "source": [
    "## Part B  Dark Matter Density Profiles\n",
    "\n",
    "### a)\n",
    "Try out Fitting Rotation Curves \n",
    "[here](http://wittman.physics.ucdavis.edu/Animations/RotationCurve/GalacticRotation.html)\n",
    "\n",
    "\n",
    "### b)\n",
    "\n",
    "\n",
    "In the Isothermal Sphere model, what is the mass enclosed within the solar radius (R$_o$) in units of M$_\\odot$? \n",
    "\n",
    "Recall that for the Isothermal sphere :\n",
    "$\\rho(r) = \\frac{V_{LSR}^2}{4\\pi G r^2}$\n",
    "\n",
    "Where $G$ = 4.4985e-6 kpc$^3$/Gyr$^2$/M$_\\odot$, r is in kpc and $V_{LSR}$ is in km/s\n",
    "\n",
    "What about at 260 kpc (in units of  M$_\\odot$) ? "
   ]
  },
  {
   "cell_type": "code",
   "execution_count": 11,
   "metadata": {},
   "outputs": [],
   "source": [
    "# Gravitational Constant\n",
    "\n",
    "Grav = const.G.to(u.kpc**3/u.Gyr**2/u.Msun)"
   ]
  },
  {
   "cell_type": "code",
   "execution_count": 12,
   "metadata": {},
   "outputs": [],
   "source": [
    "# Density profile is rho = VLSR^2 / (4*pi*G*r^2)\n",
    "# Mass = Integrate rho dV\n",
    "#      = rho * 4*pi*r**2 dr\n",
    "#      = VLSR**2 / (4*pi*G*r**2)  *  4*pi*r**2 dr\n",
    "#      = VLSR**2 / G * r\n",
    "\n",
    "def MassIso(r, VLSR):\n",
    "    \"\"\" This function will compute the dark matter mass enclosed within a given distance\n",
    "        assuming an Isothermal Sphere model for the dark matter\n",
    "        \n",
    "        Inputs:\n",
    "            r: 'astropy quantity'\n",
    "                Distance to the Galactic center in kpc\n",
    "            VLSR: 'astropy quantity'\n",
    "                Velocity of the Local Standard of Rest in km/s\n",
    "                \n",
    "        Outputs:\n",
    "            M: mass enclosed within r in units of Msun\n",
    "    \"\"\"\n",
    "    \n",
    "    VLSRkpcGyr = VLSR.to(u.kpc/u.Gyr) # Converintg km/s to kpc/Gyr\n",
    "    \n",
    "    M = VLSRkpcGyr**2 / Grav * r\n",
    "    \n",
    "    return M\n",
    "    "
   ]
  },
  {
   "cell_type": "code",
   "execution_count": 13,
   "metadata": {},
   "outputs": [
    {
     "name": "stdout",
     "output_type": "stream",
     "text": [
      "105038025820.79904 solMass\n"
     ]
    }
   ],
   "source": [
    "MIsoSolar = MassIso(RoGravity, VLSR_Gravity)\n",
    "print(MIsoSolar)"
   ]
  },
  {
   "cell_type": "code",
   "execution_count": 14,
   "metadata": {},
   "outputs": [
    {
     "name": "stdout",
     "output_type": "stream",
     "text": [
      "1.05e+11 solMass\n"
     ]
    }
   ],
   "source": [
    "# Print in scientific notation\n",
    "\n",
    "print(f\"{MIsoSolar:.2e}\")"
   ]
  },
  {
   "cell_type": "code",
   "execution_count": 15,
   "metadata": {},
   "outputs": [
    {
     "name": "stdout",
     "output_type": "stream",
     "text": [
      "3.34e+12 solMass\n"
     ]
    }
   ],
   "source": [
    "# Compute the mass within 260 kpc\n",
    "MIso260 = MassIso(260*u.kpc, VLSR_Gravity)\n",
    "print(f\"{MIso260:.2e}\")"
   ]
  },
  {
   "cell_type": "markdown",
   "metadata": {},
   "source": [
    "## c) \n",
    "\n",
    "The Leo I satellite is one of the fastest moving satellite galaxies we know. \n",
    "\n",
    "\n",
    "It is moving with 3D velocity of magnitude: Vtot = 196 km/s at a distance of 260 kpc (Sohn 2013 ApJ 768)\n",
    "\n",
    "If we assume that Leo I is moving at the escape speed:\n",
    "\n",
    "$v_{esc}^2 = 2|\\Phi| = 2 \\int G \\frac{\\rho(r)}{r}dV $ \n",
    "\n",
    "and assuming the Milky Way is well modeled by a Hernquist Sphere with a scale radius of $a$= 30 kpc, what is the minimum mass of the Milky Way (in units of M$_\\odot$) ?  \n",
    "\n",
    "How does this compare to estimates of the mass assuming the Isothermal Sphere model at 260 kpc (from your answer above)"
   ]
  },
  {
   "cell_type": "code",
   "execution_count": 16,
   "metadata": {},
   "outputs": [],
   "source": [
    "# Potential for a Hernquist profile \n",
    "# Phi = -G*M / (r+a)\n",
    "\n",
    "# Using the potential for a Hernquist profile, the equation for the escape speed becomes:\n",
    "# vesc**2 = 2*G*M / (r+a)\n",
    "\n",
    "# Rearrange the escape speed equation for M\n",
    "#    M = vesc**2 /2 /G *(r+a)\n",
    "\n",
    "def MassFromVesc(vesc, r, a):\n",
    "    \"\"\" This function determines the total mass needed for a given escape speed\n",
    "        assuming a Hernquist profile for the dark matter halo\n",
    "            M = vesc**2 * (r+a)) / (2*G)\n",
    "            \n",
    "        Inputs:\n",
    "            vesc: 'astropy quantity'\n",
    "                The escape speed in km/s (speed of satellite)\n",
    "            r: 'astropy quantity'\n",
    "                Distance from the galactic center in kpc\n",
    "            a: 'astropy quantity'\n",
    "                The Hernquist scale length in kpc\n",
    "                \n",
    "        Outputs: \n",
    "            M: 'astropy quantity'\n",
    "                Total mass within r in Msun\n",
    "        \n",
    "    \"\"\"\n",
    "    \n",
    "    \n",
    "    vescKpcGyr = vesc.to(u.kpc/u.Gyr) # Convert velocity to kpc/Gyr\n",
    "    \n",
    "    M = vescKpcGyr**2/2/Grav * (r+a) # Required mass\n",
    "    \n",
    "    return M"
   ]
  },
  {
   "cell_type": "code",
   "execution_count": 17,
   "metadata": {},
   "outputs": [],
   "source": [
    "VLeoI = 196*u.km/u.s # Speed of Leo I from Sohn+ 2013\n",
    "a = 30 * u.kpc # Scale radius for the Hernquist halo\n",
    "r = 260*u.kpc # Galactocentric distance from Leo I\n"
   ]
  },
  {
   "cell_type": "code",
   "execution_count": 18,
   "metadata": {},
   "outputs": [
    {
     "name": "stdout",
     "output_type": "stream",
     "text": [
      "1295146976857.1042 solMass\n"
     ]
    }
   ],
   "source": [
    "# Compute the mass needed to keep Leo I bound\n",
    "MLeoI = MassFromVesc(VLeoI, r, a)\n",
    "print(MLeoI)"
   ]
  },
  {
   "cell_type": "code",
   "execution_count": 21,
   "metadata": {},
   "outputs": [
    {
     "name": "stdout",
     "output_type": "stream",
     "text": [
      "1.30e+12 solMass\n"
     ]
    }
   ],
   "source": [
    "print(f\"{MLeoI:.2e}\")"
   ]
  },
  {
   "cell_type": "code",
   "execution_count": 22,
   "metadata": {},
   "outputs": [
    {
     "data": {
      "text/latex": [
       "$2.5784204 \\; \\mathrm{}$"
      ],
      "text/plain": [
       "<Quantity 2.57842045>"
      ]
     },
     "execution_count": 22,
     "metadata": {},
     "output_type": "execute_result"
    }
   ],
   "source": [
    "MIso260/MLeoI"
   ]
  },
  {
   "cell_type": "code",
   "execution_count": null,
   "metadata": {},
   "outputs": [],
   "source": []
  }
 ],
 "metadata": {
  "kernelspec": {
   "display_name": "Python 3 (ipykernel)",
   "language": "python",
   "name": "python3"
  },
  "language_info": {
   "codemirror_mode": {
    "name": "ipython",
    "version": 3
   },
   "file_extension": ".py",
   "mimetype": "text/x-python",
   "name": "python",
   "nbconvert_exporter": "python",
   "pygments_lexer": "ipython3",
   "version": "3.9.13"
  }
 },
 "nbformat": 4,
 "nbformat_minor": 2
}
